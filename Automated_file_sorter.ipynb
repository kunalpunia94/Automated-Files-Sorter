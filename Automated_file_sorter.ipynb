{
 "cells": [
  {
   "cell_type": "code",
   "execution_count": 43,
   "id": "b607c61d-f850-4093-bbd2-967e1d4ee33b",
   "metadata": {},
   "outputs": [],
   "source": [
    "#os is operating system\n",
    "#shutil is allow us to perform some high level operations on files in file explorer\n",
    "import os,shutil"
   ]
  },
  {
   "cell_type": "code",
   "execution_count": 45,
   "id": "ff90b3d0-6efd-47a6-8ed4-d05691670885",
   "metadata": {},
   "outputs": [],
   "source": [
    "#In Python, the r before the string (as in r\"D:\\Alex course\\Python\\files\") is used to create a raw string literal\n",
    "\n",
    "path=r\"D:/Alex course/Python/files/\""
   ]
  },
  {
   "cell_type": "code",
   "execution_count": 47,
   "id": "13ca7f28-f72f-4efd-afa0-a44637f9c040",
   "metadata": {},
   "outputs": [],
   "source": [
    "#it shows all the files in folder and what type\n",
    "file_names=os.listdir(path)"
   ]
  },
  {
   "cell_type": "code",
   "execution_count": 49,
   "id": "a83fb100-490b-4bac-9e58-94d891578764",
   "metadata": {},
   "outputs": [
    {
     "data": {
      "text/plain": [
       "False"
      ]
     },
     "execution_count": 49,
     "metadata": {},
     "output_type": "execute_result"
    }
   ],
   "source": [
    "#if this path does not exixt it tells us\n",
    "os.path.exists(path+ 'jpg files')"
   ]
  },
  {
   "cell_type": "code",
   "execution_count": 51,
   "id": "666b7b0a-b844-47db-adbd-d00f5f695496",
   "metadata": {},
   "outputs": [
    {
     "name": "stdout",
     "output_type": "stream",
     "text": [
      "D:/Alex course/Python/files/jpg files\n",
      "D:/Alex course/Python/files/xlsx files\n",
      "D:/Alex course/Python/files/text files\n"
     ]
    }
   ],
   "source": [
    "#here check and create the folders\n",
    "folder_names=['jpg files','xlsx files','text files']\n",
    "\n",
    "for loop in range(0,3):\n",
    "    if not os.path.exists(path + folder_names[loop]):\n",
    "        print(path + folder_names[loop])\n",
    "        os.makedirs(path + folder_names[loop])\n",
    "\n",
    "\n",
    "\n",
    "#now loop through the all files which we have taken randomly and put them into their respective folders\n",
    "for file in file_names:\n",
    "    if \".jpg\" in file and not os.path.exists(path + \"jpg files\" + file):\n",
    "        shutil.move(path + file, path + \"jpg files/\" + file)\n",
    "    elif \".xlsx\" in file and not os.path.exists(path + \"xlsx files\" + file):\n",
    "        shutil.move(path + file, path + \"xlsx files/\" + file)\n",
    "    elif \".txt\" in file and not os.path.exists(path + \"text files\" + file):\n",
    "        shutil.move(path + file, path + \"text files/\" + file)\n"
   ]
  },
  {
   "cell_type": "code",
   "execution_count": null,
   "id": "217423a9-3be4-4f1b-9466-02d1cf350547",
   "metadata": {},
   "outputs": [],
   "source": []
  },
  {
   "cell_type": "code",
   "execution_count": null,
   "id": "97115f2a-62b8-428e-a715-86d46aafe48e",
   "metadata": {},
   "outputs": [],
   "source": []
  },
  {
   "cell_type": "code",
   "execution_count": null,
   "id": "a6637142-4f6f-4e66-b0f1-8b94a6bf6e9b",
   "metadata": {},
   "outputs": [],
   "source": []
  },
  {
   "cell_type": "code",
   "execution_count": null,
   "id": "8a30471d-4c6d-46e6-b255-cea5b41e8b1d",
   "metadata": {},
   "outputs": [],
   "source": []
  }
 ],
 "metadata": {
  "kernelspec": {
   "display_name": "Python [conda env:base] *",
   "language": "python",
   "name": "conda-base-py"
  },
  "language_info": {
   "codemirror_mode": {
    "name": "ipython",
    "version": 3
   },
   "file_extension": ".py",
   "mimetype": "text/x-python",
   "name": "python",
   "nbconvert_exporter": "python",
   "pygments_lexer": "ipython3",
   "version": "3.12.7"
  }
 },
 "nbformat": 4,
 "nbformat_minor": 5
}
